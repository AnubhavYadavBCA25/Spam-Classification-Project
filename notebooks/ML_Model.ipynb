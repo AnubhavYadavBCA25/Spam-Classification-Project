{
 "cells": [
  {
   "cell_type": "markdown",
   "metadata": {},
   "source": [
    "# Machine Learning Model Building"
   ]
  },
  {
   "cell_type": "code",
   "execution_count": 20,
   "metadata": {},
   "outputs": [],
   "source": [
    "import pandas as pd\n",
    "import matplotlib.pyplot as plt\n",
    "import seaborn as sns\n",
    "%matplotlib inline\n",
    "from sklearn.model_selection import train_test_split\n",
    "from sklearn.feature_extraction.text import TfidfVectorizer\n",
    "from sklearn.linear_model import LogisticRegression\n",
    "from sklearn.naive_bayes import MultinomialNB\n",
    "from sklearn.svm import SVC\n",
    "from sklearn.metrics import accuracy_score, classification_report, confusion_matrix\n",
    "import warnings\n",
    "warnings.filterwarnings('ignore')"
   ]
  },
  {
   "cell_type": "code",
   "execution_count": 5,
   "metadata": {},
   "outputs": [
    {
     "data": {
      "text/html": [
       "<div>\n",
       "<style scoped>\n",
       "    .dataframe tbody tr th:only-of-type {\n",
       "        vertical-align: middle;\n",
       "    }\n",
       "\n",
       "    .dataframe tbody tr th {\n",
       "        vertical-align: top;\n",
       "    }\n",
       "\n",
       "    .dataframe thead th {\n",
       "        text-align: right;\n",
       "    }\n",
       "</style>\n",
       "<table border=\"1\" class=\"dataframe\">\n",
       "  <thead>\n",
       "    <tr style=\"text-align: right;\">\n",
       "      <th></th>\n",
       "      <th>label</th>\n",
       "      <th>message</th>\n",
       "      <th>length</th>\n",
       "    </tr>\n",
       "  </thead>\n",
       "  <tbody>\n",
       "    <tr>\n",
       "      <th>0</th>\n",
       "      <td>0</td>\n",
       "      <td>go jurong point crazy available bugis n great ...</td>\n",
       "      <td>111</td>\n",
       "    </tr>\n",
       "    <tr>\n",
       "      <th>1</th>\n",
       "      <td>0</td>\n",
       "      <td>ok lar joking wif u oni</td>\n",
       "      <td>29</td>\n",
       "    </tr>\n",
       "    <tr>\n",
       "      <th>2</th>\n",
       "      <td>1</td>\n",
       "      <td>free entry 2 wkly comp win fa cup final tkts 2...</td>\n",
       "      <td>155</td>\n",
       "    </tr>\n",
       "    <tr>\n",
       "      <th>3</th>\n",
       "      <td>0</td>\n",
       "      <td>u dun say early hor u c already say</td>\n",
       "      <td>49</td>\n",
       "    </tr>\n",
       "    <tr>\n",
       "      <th>4</th>\n",
       "      <td>0</td>\n",
       "      <td>nah nt think go usf life around though</td>\n",
       "      <td>61</td>\n",
       "    </tr>\n",
       "  </tbody>\n",
       "</table>\n",
       "</div>"
      ],
      "text/plain": [
       "   label                                            message  length\n",
       "0      0  go jurong point crazy available bugis n great ...     111\n",
       "1      0                            ok lar joking wif u oni      29\n",
       "2      1  free entry 2 wkly comp win fa cup final tkts 2...     155\n",
       "3      0                u dun say early hor u c already say      49\n",
       "4      0             nah nt think go usf life around though      61"
      ]
     },
     "execution_count": 5,
     "metadata": {},
     "output_type": "execute_result"
    }
   ],
   "source": [
    "# loading cleaned dataset\n",
    "df = pd.read_csv('data/cleaned_spam.csv')\n",
    "df.head()"
   ]
  },
  {
   "cell_type": "markdown",
   "metadata": {},
   "source": [
    "## Splitting the Data into Training and Testing Dataset"
   ]
  },
  {
   "cell_type": "code",
   "execution_count": 6,
   "metadata": {},
   "outputs": [],
   "source": [
    "# splitting the dataset\n",
    "X = df['message']\n",
    "y = df['label']\n",
    "X_train, X_test, y_train, y_test = train_test_split(X, y, test_size=0.25, random_state=42)"
   ]
  },
  {
   "cell_type": "code",
   "execution_count": 7,
   "metadata": {},
   "outputs": [
    {
     "name": "stdout",
     "output_type": "stream",
     "text": [
      "(4179,)\n",
      "(1393,)\n",
      "(4179,)\n",
      "(1393,)\n"
     ]
    }
   ],
   "source": [
    "# check shape of the dataset\n",
    "print(X_train.shape)\n",
    "print(X_test.shape)\n",
    "print(y_train.shape)\n",
    "print(y_test.shape)"
   ]
  },
  {
   "cell_type": "markdown",
   "metadata": {},
   "source": [
    "## TF-IDF"
   ]
  },
  {
   "cell_type": "code",
   "execution_count": 12,
   "metadata": {},
   "outputs": [],
   "source": [
    "# vectorizing the input trainig dataset\n",
    "tfidf = TfidfVectorizer()\n",
    "X_train = X_train.fillna('')\n",
    "X_train = tfidf.fit_transform(X_train)"
   ]
  },
  {
   "cell_type": "code",
   "execution_count": 15,
   "metadata": {},
   "outputs": [],
   "source": [
    "# vectorizing the input testing dataset\n",
    "X_test = X_test.fillna('')\n",
    "X_test = tfidf.transform(X_test)"
   ]
  },
  {
   "cell_type": "markdown",
   "metadata": {},
   "source": [
    "## Models Training and Evaluation"
   ]
  },
  {
   "cell_type": "code",
   "execution_count": 19,
   "metadata": {},
   "outputs": [
    {
     "name": "stdout",
     "output_type": "stream",
     "text": [
      "Training LogisticRegression model\n",
      "Accuracy for \"LogisticRegression\": 94.61593682699211%\n",
      "Classification Report for \"LogisticRegression\": \n",
      "              precision    recall  f1-score   support\n",
      "\n",
      "           0       0.94      1.00      0.97      1202\n",
      "           1       0.96      0.63      0.76       191\n",
      "\n",
      "    accuracy                           0.95      1393\n",
      "   macro avg       0.95      0.81      0.87      1393\n",
      "weighted avg       0.95      0.95      0.94      1393\n",
      "\n",
      "Confusion Matrix for \"LogisticRegression\": \n",
      "[[1197    5]\n",
      " [  70  121]]\n",
      "=======================================================\n",
      "Training SVC model\n",
      "Accuracy for \"SVC\": 97.4156496769562%\n",
      "Classification Report for \"SVC\": \n",
      "              precision    recall  f1-score   support\n",
      "\n",
      "           0       0.97      1.00      0.99      1202\n",
      "           1       0.99      0.82      0.90       191\n",
      "\n",
      "    accuracy                           0.97      1393\n",
      "   macro avg       0.98      0.91      0.94      1393\n",
      "weighted avg       0.97      0.97      0.97      1393\n",
      "\n",
      "Confusion Matrix for \"SVC\": \n",
      "[[1200    2]\n",
      " [  34  157]]\n",
      "=======================================================\n",
      "Training MultinomialNB model\n",
      "Accuracy for \"MultinomialNB\": 96.4824120603015%\n",
      "Classification Report for \"MultinomialNB\": \n",
      "              precision    recall  f1-score   support\n",
      "\n",
      "           0       0.96      1.00      0.98      1202\n",
      "           1       1.00      0.74      0.85       191\n",
      "\n",
      "    accuracy                           0.96      1393\n",
      "   macro avg       0.98      0.87      0.92      1393\n",
      "weighted avg       0.97      0.96      0.96      1393\n",
      "\n",
      "Confusion Matrix for \"MultinomialNB\": \n",
      "[[1202    0]\n",
      " [  49  142]]\n",
      "=======================================================\n"
     ]
    }
   ],
   "source": [
    "# models_name\n",
    "models = ['LogisticRegression', 'SVC', 'MultinomialNB']\n",
    "\n",
    "# models instances\n",
    "lr = LogisticRegression()\n",
    "svc = SVC()\n",
    "mnb = MultinomialNB()\n",
    "models_list = [lr, svc, mnb]\n",
    "\n",
    "# training the model\n",
    "for i,j in zip(models, models_list):\n",
    "    print(f'Training {i} model')\n",
    "    j.fit(X_train, y_train)\n",
    "    y_pred = j.predict(X_test)\n",
    "    print(f'Accuracy for \"{i}\": {accuracy_score(y_test, y_pred)*100}%')\n",
    "    print(f'Classification Report for \"{i}\": \\n{classification_report(y_test, y_pred)}')\n",
    "    print(f'Confusion Matrix for \"{i}\": \\n{confusion_matrix(y_test, y_pred)}')\n",
    "    print('='*55)"
   ]
  },
  {
   "cell_type": "code",
   "execution_count": 21,
   "metadata": {},
   "outputs": [
    {
     "name": "stdout",
     "output_type": "stream",
     "text": [
      "[0 0 1 ... 0 0 0]\n"
     ]
    }
   ],
   "source": [
    "# final svm model\n",
    "svc.fit(X_train,y_train)\n",
    "svc_pred = svc.predict(X_test)\n",
    "print(svc_pred)"
   ]
  },
  {
   "cell_type": "code",
   "execution_count": 26,
   "metadata": {},
   "outputs": [
    {
     "data": {
      "image/png": "[encoded data removed]",
      "text/plain": [
       "<Figure size 800x1200 with 6 Axes>"
      ]
     },
     "metadata": {},
     "output_type": "display_data"
    }
   ],
   "source": [
    "# confusion matrix visualization for all models\n",
    "plt.figure(figsize=(8,12))\n",
    "plt.subplot(3,1,1)\n",
    "sns.heatmap(confusion_matrix(y_test, lr.predict(X_test)),annot=True)\n",
    "plt.title('Confusion Matrix of Logistic Regression')\n",
    "\n",
    "plt.subplot(3,1,2)\n",
    "sns.heatmap(confusion_matrix(y_test, svc.predict(X_test)),annot=True)\n",
    "plt.title('Confusion Matrix of SVC')\n",
    "\n",
    "plt.subplot(3,1,3)\n",
    "sns.heatmap(confusion_matrix(y_test, mnb.predict(X_test)),annot=True)\n",
    "plt.title('Confusion Matrix of MultinomialNB')\n",
    "\n",
    "plt.tight_layout()\n"
   ]
  },
  {
   "cell_type": "markdown",
   "metadata": {},
   "source": [
    "Conclusion : Now, we are able to see that \"SVM\" model perfrom extreamly amazing with accuracy score of 97.41% and with amazing classification report & confusion matrix. So, we are going to use it for our web application."
   ]
  },
  {
   "cell_type": "markdown",
   "metadata": {},
   "source": [
    "## Model Testing on New Data"
   ]
  },
  {
   "cell_type": "code",
   "execution_count": null,
   "metadata": {},
   "outputs": [],
   "source": []
  }
 ],
 "metadata": {
  "kernelspec": {
   "display_name": "base",
   "language": "python",
   "name": "python3"
  },
  "language_info": {
   "codemirror_mode": {
    "name": "ipython",
    "version": 3
   },
   "file_extension": ".py",
   "mimetype": "text/x-python",
   "name": "python",
   "nbconvert_exporter": "python",
   "pygments_lexer": "ipython3",
   "version": "3.9.18"
  }
 },
 "nbformat": 4,
 "nbformat_minor": 2
}
